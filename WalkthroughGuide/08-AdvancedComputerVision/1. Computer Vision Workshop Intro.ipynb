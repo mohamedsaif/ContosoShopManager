{
 "cells": [
  {
   "cell_type": "code",
   "execution_count": 1,
   "metadata": {
    "collapsed": true
   },
   "outputs": [],
   "source": [
    "import IPython.display as D"
   ]
  },
  {
   "cell_type": "markdown",
   "metadata": {},
   "source": [
    "# Computer Vision Workshop Intro\n",
    "\n",
    "![](https://computervisionworkshop.blob.core.windows.net/media/chocolates.jpg)"
   ]
  },
  {
   "cell_type": "markdown",
   "metadata": {},
   "source": [
    "This intro is based on the work detecting complex policies in the following [real life code story](https://www.microsoft.com/developerblog/2017/07/31/using-object-detection-complex-image-classification-scenarios/)"
   ]
  },
  {
   "cell_type": "markdown",
   "metadata": {},
   "source": [
    "# The AI Computer Vision Revolution \n",
    "\n",
    "Recent developments in computer vision have changed the computer vision landscape. Many scenarios that were once considered possible only in  sci-fi have recently become as easy as consuming an API."
   ]
  },
  {
   "cell_type": "markdown",
   "metadata": {},
   "source": [
    "**XKCD in September 24th 2014**\n",
    " \n",
    "![](https://imgs.xkcd.com/comics/tasks.png)"
   ]
  },
  {
   "cell_type": "markdown",
   "metadata": {},
   "source": [
    "**Microsoft Developer Blog [Bird Detection with Azure ML](https://www.microsoft.com/developerblog/2017/10/24/bird-detection-with-azure-ml-workbench/)  on October 24th 2017**\n",
    "\n",
    "![](https://codestoryedge.azureedge.net/developerblog/wp-content/uploads/kittywake_data.png)"
   ]
  },
  {
   "cell_type": "markdown",
   "metadata": {},
   "source": [
    "## Yet in practice not every computer vision problem is related to birds, flowers, cats and dogs.\n",
    "\n",
    "Today we are going to review a real world computer vision use case from the retail sector and are going to compare and contrast some of the different approaches and technologies availble to solve the problem. "
   ]
  },
  {
   "cell_type": "markdown",
   "metadata": {},
   "source": [
    "# Real Life Code\n",
    "\n",
    "Today we are going to go through a real world complex image classification use case and explore the spectrum of solutions to solve the problem.\n",
    "\n",
    "We recently partnered with a large manufacturer of confectionery products in Central & Eastern Europe, to build a machine learning model which validates whether distributors are stocking chocolates correctly. The company we worked with has a huge distribution network of supermarket chains across over fourteen countries. Each of these distributors is required to arrange chocolates on their stands according to standardized policies. Each policy describes what shelf a given chocolate should be on and in what order it should be stocked.\n",
    "\n",
    "There are huge costs associated with “routine” audit activities to enforce these policies. Our partner wanted to develop a system in which an auditor or store manager could take a picture and be told immediately whether the shelf was stocked correctly, like in the image below.\n",
    "\n",
    "![](https://computervisionworkshop.blob.core.windows.net/media/policy.jpg)"
   ]
  },
  {
   "cell_type": "markdown",
   "metadata": {},
   "source": [
    "Even with state of the art methods this is challenging for a multiude of reasons such as\n",
    "\n",
    "- Image quality\n",
    "- Image angle \n",
    "- Subtle Policy Violations "
   ]
  },
  {
   "cell_type": "markdown",
   "metadata": {},
   "source": [
    "Even though some images of misstocked shelves such as the image on the right are flagrant violations of policy others such as the violation on the left are much more subtle. "
   ]
  },
  {
   "cell_type": "markdown",
   "metadata": {},
   "source": [
    "# Potential Technology Solutions to this Problem"
   ]
  },
  {
   "cell_type": "markdown",
   "metadata": {},
   "source": [
    "Microsoft provides a spectrum of AI services that can be used for solving Computer Vision Tasks like this one, each solution can be operationalizaed on Azure. From [Custom Vison Servies](https://azure.microsoft.com/en-us/services/cognitive-services/custom-vision-service/) to [Azure ML Service](https://azure.microsoft.com/en-us/services/machine-learning-service/) each techonology and approach has different advantages and tradeoffs that fit the spectrum of computer vision use cases."
   ]
  },
  {
   "cell_type": "markdown",
   "metadata": {},
   "source": [
    "### Custom Vision Service\n",
    "\n",
    "Easily customize your own state-of-the-art computer vision models for your unique use case. Just upload a few labeled images and let Custom Vision Service do the hard work. With just one click, you can export trained models to be run on device or as Docker containers.\n",
    "\n",
    "![](https://azurecomcdn.azureedge.net/cvt-db5ff32ce86a2b3dd6d04e1d6969834f6d432f5e2d190b76d3d4602d271bd268/images/page/services/cognitive-services/custom-vision-service/custom-vision-details.jpg)\n"
   ]
  },
  {
   "cell_type": "markdown",
   "metadata": {},
   "source": [
    "### Azure ML Services\n",
    "\n",
    "![](https://docs.microsoft.com/en-us/azure/machine-learning/service/media/overview-what-is-azure-ml/aml.png#lightbox)\n",
    "\n",
    "**Azure Machine Learning service** provides a cloud-based environment you can use to prep data, train, test, deploy, manage, and track machine learning models\n",
    "\n",
    "Simplify and accelerate the building, training, and deployment of your machine learning models. Use automated machine learning to identify suitable algorithms and tune hyperparameters faster. Improve productivity and reduce costs with autoscaling compute and DevOps for machine learning. Seamlessly deploy to the cloud and the edge with one click. Access all these capabilities from your favorite Python environment using the latest open-source frameworks, such as PyTorch, TensorFlow, and scikit-learn.\n",
    "\n"
   ]
  },
  {
   "cell_type": "markdown",
   "metadata": {},
   "source": [
    "In the following workshop we are going to explore some of these technologies and architectures to solve our own complex policy classification scenario."
   ]
  },
  {
   "cell_type": "markdown",
   "metadata": {},
   "source": [
    "# Workshop Challenge "
   ]
  },
  {
   "cell_type": "markdown",
   "metadata": {},
   "source": [
    "In this workshop we will building a complex policy classifier similar to the one outlined the above scenario. For an image to be stocked validly it must be stocked in the following order.\n",
    "\n",
    "- Top Shelf (Soda)\n",
    "- Middle Shelf (Juice)\n",
    "- Bottom Shelf (water)"
   ]
  },
  {
   "cell_type": "markdown",
   "metadata": {},
   "source": [
    "# Workshop Goals\n",
    "\n",
    "By the end of this workshop you should better \n",
    "\n",
    "- Understand the AI Computer Vision Landscape \n",
    "\n",
    "- Be able to build an deploy a custom vision service model\n",
    "\n",
    "- Build a CNN image recognition model with pytorch and transfer learning using Azure Machine Learning services"
   ]
  },
  {
   "cell_type": "code",
   "execution_count": null,
   "metadata": {
    "collapsed": true
   },
   "outputs": [],
   "source": []
  }
 ],
 "metadata": {
  "kernelspec": {
   "display_name": "Python 3",
   "language": "python",
   "name": "python3"
  },
  "language_info": {
   "codemirror_mode": {
    "name": "ipython",
    "version": 3
   },
   "file_extension": ".py",
   "mimetype": "text/x-python",
   "name": "python",
   "nbconvert_exporter": "python",
   "pygments_lexer": "ipython3",
   "version": "3.6.8"
  }
 },
 "nbformat": 4,
 "nbformat_minor": 2
}
