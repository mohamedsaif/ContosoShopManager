{
 "cells": [
  {
   "cell_type": "markdown",
   "metadata": {},
   "source": [
    "## Prerequisites "
   ]
  },
  {
   "cell_type": "code",
   "execution_count": 14,
   "metadata": {},
   "outputs": [],
   "source": [
    "# Useful for being able to dump images into the Notebook\n",
    "import IPython.display as D"
   ]
  },
  {
   "cell_type": "markdown",
   "metadata": {},
   "source": [
    "# [Custom Vision Service](https://customvision.ai)\n",
    "\n",
    "![url](http://aihelpwebsite.com/Portals/0/Blog/Files/1/1024/Windows-Live-Writer-5d53ba6d17ba_CCC7-image_dcb1e7bb-3eb3-4e94-a0d1-c04d397fc7f5.png)\n"
   ]
  },
  {
   "cell_type": "markdown",
   "metadata": {},
   "source": [
    "Sourced here: https://docs.microsoft.com/en-us/azure/cognitive-services/custom-vision-service/python-tutorial and https://www.microsoft.com/developerblog/2017/05/12/food-classification-custom-vision-service/\n",
    "\n",
    "### Custom Vision Service brings the power of machine learning to your apps\n",
    "Custom Vision Service is a tool for building custom image classifiers. It makes it easy and fast to build, deploy, and improve an image classifier. We provide a REST API and a web interface to upload your images and train.\n",
    "\n",
    "### What can Custom Vision Service do well?\n",
    "Custom Vision Service is a tool for building custom image classifiers, and for making them better over time. For example, if you want a tool that could identify images of \"Daisies\", \"Daffodils\", and \"Dahlias\", you could train a classifier to do that. You do so by providing Custom Vision Service with images for each tag you want to recognize.\n",
    "\n",
    "![](https://computervisionworkshop.blob.core.windows.net/media/custom-vision-details.jpg)"
   ]
  },
  {
   "cell_type": "markdown",
   "metadata": {},
   "source": [
    "Custom Vision Service works best when the item you are trying to classify is prominent in your image. Custom Vision Service does \"image classification\" but not yet \"object detection.\" This means that Custom Vision Service identifies whether an image is of a particular object, but not where that object is within the image.\n",
    "\n",
    "Very few images are required to create a classifier -- 30 images per class is enough to start your prototype. The methods Custom Vision Service uses are robust to differences, which allows you to start prototyping with so little data. However, this means Custom Vision Service is not well suited to scenarios where you want to detect very subtle differences (for example, minor cracks or dents in quality assurance scenarios.)\n",
    "\n",
    "Custom Vision Service is designed to make it easy to start building your classifier, and to help you improve the quality of your classifier over time.\n",
    "\n",
    "Developers can also export their models to be run on the edge devices such as [iOS](https://azure.microsoft.com/en-us/blog/custom-vision-service-introduces-classifier-export-starting-with-coreml-for-ios-11/)"
   ]
  },
  {
   "cell_type": "markdown",
   "metadata": {},
   "source": [
    "# Challenge"
   ]
  },
  {
   "cell_type": "markdown",
   "metadata": {},
   "source": [
    "## Step 1: Prepare the keys and the images needed for the example\n",
    "Custom Vision Service can be found by clicking here: https://customvision.ai\n",
    "\n",
    "Obtain your training and prediction key by logging into the Custom Vision Service and navigating to account settings as shown below.\n",
    "\n",
    "![](https://computervisionworkshop.blob.core.windows.net/media/custom vision service.jpg)\n"
   ]
  },
  {
   "cell_type": "markdown",
   "metadata": {},
   "source": [
    "## Step 2: Create a Custom Vision Service project\n",
    "\n",
    "Next we need to programatically make a new custom vision service project using the keys your sourced above."
   ]
  },
  {
   "cell_type": "code",
   "execution_count": 2,
   "metadata": {},
   "outputs": [],
   "source": [
    "#from azure.cognitiveservices.vision.customvision.training import training_api\n",
    "from azure.cognitiveservices.vision.customvision.training import CustomVisionTrainingClient\n",
    "from azure.cognitiveservices.vision.customvision.training.models import ImageUrlCreateEntry\n",
    "\n",
    "# Replace with a valid key\n",
    "ENDPOINT ='https://eastus.api.cognitive.microsoft.com'\n",
    "training_key = '09e767532f9f47fb8b43bfee99383a82' #<your training key>\n",
    "prediction_key = 'fef70710e2494356a5e9d48276804b1a' #<your prediction key>\n",
    "\n"
   ]
  },
  {
   "cell_type": "code",
   "execution_count": 3,
   "metadata": {},
   "outputs": [],
   "source": [
    "#trainer = training_api.TrainingApi(training_key)\n",
    "trainer = CustomVisionTrainingClient(training_key, endpoint=ENDPOINT)"
   ]
  },
  {
   "cell_type": "code",
   "execution_count": 4,
   "metadata": {},
   "outputs": [
    {
     "name": "stdout",
     "output_type": "stream",
     "text": [
      "Creating Beverage Policy Classifier...\n"
     ]
    }
   ],
   "source": [
    "# Create a new project\n",
    "print(\"Creating Beverage Policy Classifier...\")\n",
    "project = trainer.create_project(\"Beverage Policy Classifier2`\")"
   ]
  },
  {
   "cell_type": "markdown",
   "metadata": {},
   "source": [
    "## Step 3: Add tags to your project\n",
    "\n",
    "Run the following code to create tags for our **Valid** and **Invalid** Examples "
   ]
  },
  {
   "cell_type": "code",
   "execution_count": 5,
   "metadata": {},
   "outputs": [],
   "source": [
    "# Make two tags in the new project\n",
    "valid_tag = trainer.create_tag(project.id, \"Valid\")\n",
    "invalid_tag = trainer.create_tag(project.id, \"Invalid\")"
   ]
  },
  {
   "cell_type": "markdown",
   "metadata": {},
   "source": [
    "## Step 4: Upload images to the project\n",
    "To add the images we have to the project, insert the following code after the tag creation. This will upload the image with the corresponding tag."
   ]
  },
  {
   "cell_type": "code",
   "execution_count": 6,
   "metadata": {},
   "outputs": [
    {
     "name": "stdout",
     "output_type": "stream",
     "text": [
      "Adding images...\n",
      "................................................................................Added 80 images, 40 valid, 40 invalid.\n"
     ]
    }
   ],
   "source": [
    "print (\"Adding images...\")\n",
    "\n",
    "import os\n",
    "from multiprocessing.dummy import Pool as ThreadPool\n",
    "\n",
    "def upload(filepath):\n",
    "    with open(filepath, mode=\"rb\") as img_data:\n",
    "        if \"Non-Compliant\" in filepath:\n",
    "            trainer.create_images_from_data(project.id, img_data.read(), [ invalid_tag.id ])\n",
    "        else:\n",
    "            trainer.create_images_from_data(project.id, img_data.read(), [ valid_tag.id ])\n",
    "    print('.', end='')\n",
    "    \n",
    "def upload_parallel(filepaths, threads=5):\n",
    "    pool = ThreadPool(threads)\n",
    "    results = pool.map(upload, filepaths)\n",
    "    pool.close()\n",
    "    pool.join()\n",
    "\n",
    "valid_dir = \"../../../Dataset/Compliant/\"\n",
    "invalid_dir = \"../../../Dataset/Non-Compliant/\"\n",
    "valid_paths = [valid_dir + os.fsdecode(image) for image in os.listdir(os.fsencode(valid_dir))]\n",
    "invalid_paths = [invalid_dir + os.fsdecode(image) for image in os.listdir(os.fsencode(invalid_dir))]\n",
    "img_paths = valid_paths + invalid_paths\n",
    "upload_parallel(img_paths)\n",
    "\n",
    "print(\"Added {} images, {} valid, {} invalid.\".format(len(img_paths), len(valid_paths), len(invalid_paths)))"
   ]
  },
  {
   "cell_type": "markdown",
   "metadata": {},
   "source": [
    "## Step 5: Train the project\n",
    "Now that we've added tags and images to the project, we can train it. This creates the first iteration in the project. We can then mark this iteration as the default iteration."
   ]
  },
  {
   "cell_type": "code",
   "execution_count": 7,
   "metadata": {},
   "outputs": [
    {
     "name": "stdout",
     "output_type": "stream",
     "text": [
      "Training...\n",
      "Training status: Training\n",
      "Training status: Training\n",
      "Training status: Training\n",
      "Training status: Training\n",
      "Training status: Training\n",
      "Training status: Completed\n",
      "Done!\n"
     ]
    }
   ],
   "source": [
    "import time\n",
    "\n",
    "print (\"Training...\")\n",
    "iteration = trainer.train_project(project.id)\n",
    "while (iteration.status != \"Completed\"):\n",
    "    iteration = trainer.get_iteration(project.id, iteration.id)\n",
    "    print (\"Training status: \" + iteration.status)\n",
    "    time.sleep(1)\n",
    "\n",
    "# The iteration is now trained. Make it the default project endpoint\n",
    "trainer.update_iteration(project.id, iteration.id, is_default=True)\n",
    "print (\"Done!\")"
   ]
  },
  {
   "cell_type": "markdown",
   "metadata": {},
   "source": [
    "## Step 6: Evaluate the Model\n",
    "\n",
    "Now lets evaluate the model on the local test dataset that the service has never seen."
   ]
  },
  {
   "cell_type": "code",
   "execution_count": 12,
   "metadata": {},
   "outputs": [
    {
     "name": "stdout",
     "output_type": "stream",
     "text": [
      ". Valid. Valid. Valid. Valid. Invalid. Invalid. Invalid. Invalid. Invalid. Invalid"
     ]
    }
   ],
   "source": [
    "from azure.cognitiveservices.vision.customvision.prediction import CustomVisionPredictionClient\n",
    "#from azure.cognitiveservices.vision.customvision.prediction.prediction_endpoint import models\n",
    "\n",
    "# Now there is a trained endpoint, it can be used to make a prediction\n",
    "\n",
    "#predictor = prediction_endpoint.PredictionEndpoint(prediction_key)\n",
    "predictor = CustomVisionPredictionClient(prediction_key, endpoint=ENDPOINT)\n",
    "\n",
    "project_id = project.id\n",
    "def predict(filepath):\n",
    "    with open(filepath, mode=\"rb\") as test_data:\n",
    "        results = predictor.predict_image(project_id, test_data.read(), iteration.id)\n",
    "    pred  = max(results.predictions, key=lambda x:x.probability).tag_name\n",
    "    true ='Invalid' if \"Non-Compliant\" in filepath else 'Valid'\n",
    "    print('.', pred , end='')\n",
    "    return (true, pred)\n",
    "        \n",
    "def predict_parallel(filepaths, threads=2):\n",
    "    pool = ThreadPool(threads)\n",
    "    results = pool.map(predict, filepaths)\n",
    "    pool.close()\n",
    "    pool.join()\n",
    "    return zip(*results)\n",
    "\n",
    "test_valid_dir = \"../../../Dataset/TestCompliant/\"\n",
    "test_invalid_dir = \"../../../Dataset/TestNon-Compliant/\"\n",
    "test_valid_paths = [test_valid_dir + os.fsdecode(image) for image in os.listdir(os.fsencode(test_valid_dir))]\n",
    "test_invalid_paths = [test_invalid_dir + os.fsdecode(image) for image in os.listdir(os.fsencode(test_invalid_dir))]\n",
    "test_img_paths = test_valid_paths + test_invalid_paths\n",
    "\n",
    "y_true, y_pred = predict_parallel(test_img_paths)"
   ]
  },
  {
   "cell_type": "markdown",
   "metadata": {},
   "source": [
    "## Step 7: Benchmark"
   ]
  },
  {
   "cell_type": "code",
   "execution_count": 15,
   "metadata": {},
   "outputs": [
    {
     "name": "stdout",
     "output_type": "stream",
     "text": [
      "              precision    recall  f1-score   support\n",
      "\n",
      "     Invalid       0.83      1.00      0.91         5\n",
      "       Valid       1.00      0.80      0.89         5\n",
      "\n",
      "   micro avg       0.90      0.90      0.90        10\n",
      "   macro avg       0.92      0.90      0.90        10\n",
      "weighted avg       0.92      0.90      0.90        10\n",
      "\n",
      "Confusion matrix, without normalization\n",
      "[[5 0]\n",
      " [1 4]]\n",
      "Normalized confusion matrix\n",
      "[[1.  0. ]\n",
      " [0.2 0.8]]\n"
     ]
    },
    {
     "data": {
      "image/png": "[encoded data removed]",
      "text/plain": [
       "<Figure size 432x288 with 2 Axes>"
      ]
     },
     "metadata": {
      "needs_background": "light"
     },
     "output_type": "display_data"
    },
    {
     "data": {
      "image/png": "[encoded data removed]",
      "text/plain": [
       "<Figure size 432x288 with 2 Axes>"
      ]
     },
     "metadata": {
      "needs_background": "light"
     },
     "output_type": "display_data"
    }
   ],
   "source": [
    "from cvworkshop_utils import classification_report\n",
    "\n",
    "classification_report(y_true, y_pred)"
   ]
  },
  {
   "cell_type": "markdown",
   "metadata": {},
   "source": [
    "# Conclusions"
   ]
  },
  {
   "cell_type": "markdown",
   "metadata": {
    "collapsed": true
   },
   "source": [
    "As you can see the custom vision service is a great tool for generating strong models with relativley small amount of data and little work. In the majority of use cases its a go too tool and a great place to get started.Custom Vision Service works best when the item you are trying to classify is prominent in your image.  \n",
    "\n",
    "The service is a go to starting point for any classification task. However there are a couple of items to consider when deploying for production.\n",
    "\n",
    "1) What are the cases that the service fails on (It could be that the 2% error case appears 30% in production or are the most important cases to consider for your use case.\n",
    "\n",
    "2) How many classes/policies are you classifiying (The models work better with 2-10 policies )\n",
    "\n",
    "3) What domain is your task?\n",
    " "
   ]
  },
  {
   "cell_type": "markdown",
   "metadata": {
    "collapsed": true
   },
   "source": [
    "## Reference code for scoring via API"
   ]
  }
 ],
 "metadata": {
  "kernelspec": {
   "display_name": "Python 3",
   "language": "python",
   "name": "python3"
  },
  "language_info": {
   "codemirror_mode": {
    "name": "ipython",
    "version": 3
   },
   "file_extension": ".py",
   "mimetype": "text/x-python",
   "name": "python",
   "nbconvert_exporter": "python",
   "pygments_lexer": "ipython3",
   "version": "3.6.8"
  }
 },
 "nbformat": 4,
 "nbformat_minor": 2
}
