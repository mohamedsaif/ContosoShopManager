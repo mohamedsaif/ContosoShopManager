{
  "cells": [
    {
      "metadata": {},
      "cell_type": "markdown",
      "source": "Copyright (c) Microsoft Corporation. All rights reserved.\n\nLicensed under the MIT License.\n\n**Source of the notebook - reusing As-Is (minor changes):** [Azure ML Notebooks](https://github.com/Azure/MachineLearningNotebooks)"
    },
    {
      "metadata": {},
      "cell_type": "markdown",
      "source": "# Train and deploy a model\n_**Create and deploy a model directly from a notebook**_\n\n---\n---\n\n## Contents\n1. [Introduction](#Introduction)\n1. [Setup](#Setup)\n1. [Data](#Data)\n1. [Train](#Train)\n    1. Viewing run results\n    1. Simple parameter sweep\n    1. Viewing experiment results\n    1. Select the best model\n1. [Deploy](#Deploy)\n    1. Register the model\n    1. Create a scoring file\n    1. Describe your environment\n    1. Descrice your target compute\n    1. Deploy your webservice\n    1. Test your webservice\n    1. Clean up\n1. [Next Steps](#Next%20Steps)\n\n---\n\n## Introduction\nAzure Machine Learning provides capabilities to control all aspects of model training and deployment directly from a notebook using the AML Python SDK.  In this notebook we will\n* connect to our AML Workspace\n* create an experiment that contains multiple runs with tracked metrics\n* choose the best model created across all runs\n* deploy that model as a service\n\nIn the end we will have a model deployed as a web service which we can call from an HTTP endpoint"
    },
    {
      "metadata": {},
      "cell_type": "markdown",
      "source": "---\n\n## Setup"
    },
    {
      "metadata": {
        "tags": [
          "install"
        ],
        "trusted": true
      },
      "cell_type": "code",
      "source": "import azureml.core\nfrom azureml.core import Experiment, Workspace\n\n# Check core SDK version number\nprint(\"This notebook was created using version 1.0.2 of the Azure ML SDK\")\nprint(\"You are currently using version\", azureml.core.VERSION, \"of the Azure ML SDK\")\nprint(\"\")\n\n\nws = Workspace.from_config()\nprint('Workspace name: ' + ws.name, \n      'Azure region: ' + ws.location, \n      'Subscription id: ' + ws.subscription_id, \n      'Resource group: ' + ws.resource_group, sep='\\n')",
      "execution_count": 2,
      "outputs": [
        {
          "output_type": "stream",
          "text": "Warning: Falling back to use azure cli login credentials.\nIf you run your code in unattended mode, i.e., where you can't give a user input, then we recommend to use ServicePrincipalAuthentication or MsiAuthentication.\nPlease refer to aka.ms/aml-notebook-auth for different authentication mechanisms in azureml-sdk.\n",
          "name": "stderr"
        },
        {
          "output_type": "stream",
          "text": "This notebook was created using version 1.0.2 of the Azure ML SDK\nYou are currently using version 1.0.17 of the Azure ML SDK\n\nFound the config file in: /home/nbuser/library/config.json\nPerforming interactive authentication. Please follow the instructions on the terminal.\nTo sign in, use a web browser to open the page https://microsoft.com/devicelogin and enter the code F8V6LHGDP to authenticate.\nInteractive authentication successfully completed.\nWorkspace name: AML_test\nAzure region: eastus\nSubscription id: 60dcdfe6-7fbc-4c33-96f9-ef1e832d16a3\nResource group: AML_test_rg\n",
          "name": "stdout"
        }
      ]
    },
    {
      "metadata": {},
      "cell_type": "markdown",
      "source": "---\n\n## Data\nWe will use the diabetes dataset for this experiement, a well-known small dataset that comes with scikit-learn.  This cell loads the dataset and splits it into random training and testing sets.\n"
    },
    {
      "metadata": {
        "trusted": true
      },
      "cell_type": "code",
      "source": "from sklearn.datasets import load_diabetes\nfrom sklearn.linear_model import Ridge\nfrom sklearn.metrics import mean_squared_error\nfrom sklearn.model_selection import train_test_split\nfrom sklearn.externals import joblib\n\nX, y = load_diabetes(return_X_y = True)\ncolumns = ['age', 'gender', 'bmi', 'bp', 's1', 's2', 's3', 's4', 's5', 's6']\nX_train, X_test, y_train, y_test = train_test_split(X, y, test_size=0.2, random_state=0)\ndata = {\n    \"train\":{\"X\": X_train, \"y\": y_train},        \n    \"test\":{\"X\": X_test, \"y\": y_test}\n}\n\nprint (\"Data contains\", len(data['train']['X']), \"training samples and\",len(data['test']['X']), \"test samples\")",
      "execution_count": 3,
      "outputs": [
        {
          "output_type": "stream",
          "text": "Data contains 353 training samples and 89 test samples\n",
          "name": "stdout"
        }
      ]
    },
    {
      "metadata": {},
      "cell_type": "markdown",
      "source": "---\n## Train\n\nLet's use scikit-learn to train a simple Ridge regression model.  We use AML to record interesting information about the model in an Experiment.  An Experiment contains a series of trials called Runs.  During this trial we use AML in the following way:\n* We access an experiment from our AML workspace by name, which will be created if it doesn't exist\n* We use `start_logging` to create a new run in this experiment\n* We use `run.log()` to record a parameter, alpha, and an accuracy measure - the Mean Squared Error (MSE) to the run.  We will be able to review and compare these measures in the Azure Portal at a later time.\n* We store the resulting model in the **outputs** directory, which is automatically captured by AML when the run is complete.\n* We use `run.complete()` to indicate that the run is over and results can be captured and finalized"
    },
    {
      "metadata": {
        "tags": [
          "local run",
          "outputs upload"
        ],
        "trusted": true
      },
      "cell_type": "code",
      "source": "# Get an experiment object from Azure Machine Learning\nexperiment = Experiment(workspace=ws, name=\"train-within-notebook\")\n\n# Create a run object in the experiment\nrun = experiment.start_logging()\n# Log the algorithm parameter alpha to the run\nrun.log('alpha', 0.03)\n\n# Create, fit, and test the scikit-learn Ridge regression model\nregression_model = Ridge(alpha=0.03)\nregression_model.fit(data['train']['X'], data['train']['y'])\npreds = regression_model.predict(data['test']['X'])\n\n# Output the Mean Squared Error to the notebook and to the run\nprint('Mean Squared Error is', mean_squared_error(data['test']['y'], preds))\nrun.log('mse', mean_squared_error(data['test']['y'], preds))\n\n# Save the model to the outputs directory for capture\njoblib.dump(value=regression_model, filename='outputs/model.pkl')\n\n# Complete the run\nrun.complete()",
      "execution_count": 4,
      "outputs": [
        {
          "output_type": "stream",
          "text": "Mean Squared Error is 3424.900315896017\n",
          "name": "stdout"
        }
      ]
    },
    {
      "metadata": {},
      "cell_type": "markdown",
      "source": "### Viewing run results\nAzure Machine Learning stores all the details about the run in the Azure cloud.  Let's access those details by retrieving a link to the run using the default run output.  Clicking on the resulting link will take you to an interactive page presenting all run information."
    },
    {
      "metadata": {
        "trusted": true
      },
      "cell_type": "code",
      "source": "run",
      "execution_count": 5,
      "outputs": [
        {
          "output_type": "execute_result",
          "execution_count": 5,
          "data": {
            "text/html": "<table style=\"width:100%\"><tr><th>Experiment</th><th>Id</th><th>Type</th><th>Status</th><th>Details Page</th><th>Docs Page</th></tr><tr><td>train-within-notebook</td><td>f2f9ac8b-227c-4e8e-b563-1f087065924a</td><td></td><td>Completed</td><td><a href=\"https://mlworkspace.azure.ai/portal/subscriptions/60dcdfe6-7fbc-4c33-96f9-ef1e832d16a3/resourceGroups/AML_test_rg/providers/Microsoft.MachineLearningServices/workspaces/AML_test/experiments/train-within-notebook/runs/f2f9ac8b-227c-4e8e-b563-1f087065924a\" target=\"_blank\" rel=\"noopener\">Link to Azure Portal</a></td><td><a href=\"https://docs.microsoft.com/en-us/python/api/azureml-core/azureml.core.run.Run?view=azure-ml-py\" target=\"_blank\" rel=\"noopener\">Link to Documentation</a></td></tr></table>",
            "text/plain": "Run(Experiment: train-within-notebook,\nId: f2f9ac8b-227c-4e8e-b563-1f087065924a,\nType: None,\nStatus: Completed)"
          },
          "metadata": {}
        }
      ]
    },
    {
      "metadata": {},
      "cell_type": "markdown",
      "source": "### Simple parameter sweep\nNow let's take the same concept from above and modify the **alpha** parameter.  For each value of alpha we will create a run that will store metrics and the resulting model.  In the end we can use the captured run history to determine which model was the best for us to deploy. \n\nNote that by using `with experiment.start_logging() as run` AML will automatically call `run.complete()` at the end of each loop.\n\nThis example also uses the **tqdm** library to provide a thermometer feedback"
    },
    {
      "metadata": {
        "trusted": true
      },
      "cell_type": "code",
      "source": "import numpy as np\nfrom tqdm import tqdm\n\nmodel_name = \"model.pkl\"\n\n# list of numbers from 0 to 1.0 with a 0.05 interval\nalphas = np.arange(0.0, 1.0, 0.05)\n\n# try a bunch of alpha values in a Linear Regression (Ridge) model\nfor alpha in tqdm(alphas):\n    # create a bunch of runs, each train a model with a different alpha value\n    with experiment.start_logging() as run:\n        # Use Ridge algorithm to build a regression model\n        regression_model = Ridge(alpha=alpha)\n        regression_model.fit(X=data[\"train\"][\"X\"], y=data[\"train\"][\"y\"])\n        preds = regression_model.predict(X=data[\"test\"][\"X\"])\n        mse = mean_squared_error(y_true=data[\"test\"][\"y\"], y_pred=preds)\n\n        # log alpha, mean_squared_error and feature names in run history\n        run.log(name=\"alpha\", value=alpha)\n        run.log(name=\"mse\", value=mse)\n\n        # Save the model to the outputs directory for capture\n        joblib.dump(value=regression_model, filename='outputs/model.pkl')\n",
      "execution_count": 6,
      "outputs": [
        {
          "output_type": "stream",
          "text": "100%|██████████| 20/20 [05:04<00:00, 13.63s/it]\n",
          "name": "stderr"
        }
      ]
    },
    {
      "metadata": {},
      "cell_type": "markdown",
      "source": "### Viewing experiment results\nSimilar to viewing the run, we can also view the entire experiment.  The experiment report view in the Azure portal lets us view all the runs in a table, and also allows us to customize charts.  This way, we can see how the alpha parameter impacts the quality of the model"
    },
    {
      "metadata": {
        "trusted": true
      },
      "cell_type": "code",
      "source": "# now let's take a look at the experiment in Azure portal.\nexperiment",
      "execution_count": 7,
      "outputs": [
        {
          "output_type": "execute_result",
          "execution_count": 7,
          "data": {
            "text/html": "<table style=\"width:100%\"><tr><th>Name</th><th>Workspace</th><th>Report Page</th><th>Docs Page</th></tr><tr><td>train-within-notebook</td><td>AML_test</td><td><a href=\"https://mlworkspace.azure.ai/portal/subscriptions/60dcdfe6-7fbc-4c33-96f9-ef1e832d16a3/resourceGroups/AML_test_rg/providers/Microsoft.MachineLearningServices/workspaces/AML_test/experiments/train-within-notebook\" target=\"_blank\" rel=\"noopener\">Link to Azure Portal</a></td><td><a href=\"https://docs.microsoft.com/en-us/python/api/azureml-core/azureml.core.experiment.Experiment?view=azure-ml-py\" target=\"_blank\" rel=\"noopener\">Link to Documentation</a></td></tr></table>",
            "text/plain": "Experiment(Name: train-within-notebook,\nWorkspace: AML_test)"
          },
          "metadata": {}
        }
      ]
    },
    {
      "metadata": {},
      "cell_type": "markdown",
      "source": "### Select the best model \nNow that we've created many runs with different parameters, we need to determine which model is the best for deployment.  For this, we will iterate over the set of runs.  From each run we will take the *run id* using the `id` property, and examine the metrics by calling `run.get_metrics()`.  \n\nSince each run may be different, we do need to check if the run has the metric that we are looking for, in this case, **mse**.  To find the best run, we create a dictionary mapping the run id's to the metrics.\n\nFinally, we use the `tag` method to mark the best run to make it easier to find later. "
    },
    {
      "metadata": {
        "trusted": true
      },
      "cell_type": "code",
      "source": "runs = {}\nrun_metrics = {}\n\n# Create dictionaries containing the runs and the metrics for all runs containing the 'mse' metric\nfor r in tqdm(experiment.get_runs()):\n    metrics = r.get_metrics()\n    if 'mse' in metrics.keys():\n        runs[r.id] = r\n        run_metrics[r.id] = metrics\n\n# Find the run with the best (lowest) mean squared error and display the id and metrics\nbest_run_id = min(run_metrics, key = lambda k: run_metrics[k]['mse'])\nbest_run = runs[best_run_id]\nprint('Best run is:', best_run_id)\nprint('Metrics:', run_metrics[best_run_id])\n\n# Tag the best run for identification later\nbest_run.tag(\"Best Run\")",
      "execution_count": 8,
      "outputs": [
        {
          "output_type": "stream",
          "text": "21it [00:05,  4.12it/s]\n",
          "name": "stderr"
        },
        {
          "output_type": "stream",
          "text": "Best run is: a11ef08d-a22f-4001-94e6-5caef0bdca9e\nMetrics: {'alpha': 0.4, 'mse': 3295.741064355809}\n",
          "name": "stdout"
        }
      ]
    },
    {
      "metadata": {},
      "cell_type": "markdown",
      "source": "---\n## Deploy\nNow that we have trained a set of models and identified the run containing the best model, we want to deploy the model for real time inferencing.  The process of deploying a model involves\n* registering a model in your workspace\n* creating a scoring file containing init and run methods\n* creating an environment dependency file describing packages necessary for your scoring file\n* creating a docker image containing a properly described environment, your model, and your scoring file\n* deploying that docker image as a web service"
    },
    {
      "metadata": {},
      "cell_type": "markdown",
      "source": "### Register a model\nWe have already identified which run contains the \"best model\" by our evaluation criteria.  Each run has a file structure associated with it that contains various files collected during the run.  Since a run can have many outputs we need to tell AML which file from those outputs represents the model that we want to use for our deployment.  We can use the `run.get_file_names()` method to list the files associated with the run, and then use the `run.register_model()` method to place the model in the workspace's model registry.\n\nWhen using `run.register_model()` we supply a `model_name` that is meaningful for our scenario and the `model_path` of the model relative to the run.  In this case, the model path is what is returned from `run.get_file_names()`"
    },
    {
      "metadata": {
        "tags": [
          "query history"
        ],
        "trusted": true
      },
      "cell_type": "code",
      "source": "# View the files in the run\nfor f in best_run.get_file_names():\n    print(f)\n    \n# Register the model with the workspace\nmodel = best_run.register_model(model_name='best_model', model_path='outputs/model.pkl')",
      "execution_count": 9,
      "outputs": [
        {
          "output_type": "stream",
          "text": "outputs/model.pkl\n",
          "name": "stdout"
        }
      ]
    },
    {
      "metadata": {},
      "cell_type": "markdown",
      "source": "Once a model is registered, it is accessible from the list of models on the AML workspace.  If you register models with the same name multiple times, AML keeps a version history of those models for you.  The `Model.list()` lists all models in a workspace, and can be filtered by name, tags, or model properties.   "
    },
    {
      "metadata": {
        "tags": [
          "register model from history"
        ],
        "trusted": true
      },
      "cell_type": "code",
      "source": "# Find all models called \"best_model\" and display their version numbers\nfrom azureml.core.model import Model\nmodels = Model.list(ws, name='best_model')\nfor m in models:\n    print(m.name, m.version)",
      "execution_count": 10,
      "outputs": [
        {
          "output_type": "stream",
          "text": "best_model 1\n",
          "name": "stdout"
        }
      ]
    },
    {
      "metadata": {},
      "cell_type": "markdown",
      "source": "### Create a scoring file\n\nSince your model file can essentially be anything you want it to be, you need to supply a scoring script that can load your model and then apply the model to new data.  This script is your 'scoring file'.  This scoring file is a python program containing, at a minimum, two methods `init()` and `run()`.  The `init()` method is called once when your deployment is started so you can load your model and any other required objects.  This method uses the `get_model_path` function to locate the registered model inside the docker container.  The `run()` method is called interactively when the web service is called with one or more data samples to predict.\n\nThe scoring file used for this exercise is [here](score.py).  \n"
    },
    {
      "metadata": {},
      "cell_type": "markdown",
      "source": "### Describe your environment\n\nEach modelling process may require a unique set of packages.  Therefore we need to create a dependency file providing instructions to AML on how to contstruct a docker image that can support the models and any other objects required for inferencing.  In the following cell, we create a environment dependency file, *myenv.yml* that specifies which libraries are needed by the scoring script.  You can create this file manually, or use the `CondaDependencies` class to create it for you.\n\nNext we use this environment file to describe the docker container that we need to create in order to deploy our model.  This container is created using our environment description and includes our scoring script."
    },
    {
      "metadata": {
        "trusted": true
      },
      "cell_type": "code",
      "source": "from azureml.core.conda_dependencies import CondaDependencies \nfrom azureml.core.image import ContainerImage\n\n# Create an empty conda environment and add the scikit-learn package\nenv = CondaDependencies()\nenv.add_conda_package(\"scikit-learn\")\n\n# Display the environment\nprint(env.serialize_to_string())\n\n# Write the environment to disk\nwith open(\"myenv.yml\",\"w\") as f:\n    f.write(env.serialize_to_string())\n\n# Create a configuration object indicating how our deployment container needs to be created\nimage_config = ContainerImage.image_configuration(execution_script=\"score.py\", \n                                    runtime=\"python\", \n                                    conda_file=\"myenv.yml\")",
      "execution_count": 11,
      "outputs": [
        {
          "output_type": "stream",
          "text": "# Conda environment specification. The dependencies defined in this file will\r\n# be automatically provisioned for runs with userManagedDependencies=False.\r\n\n# Details about the Conda environment file format:\r\n# https://conda.io/docs/user-guide/tasks/manage-environments.html#create-env-file-manually\r\n\nname: project_environment\ndependencies:\n  # The python interpreter version.\r\n  # Currently Azure ML only supports 3.5.2 and later.\r\n- python=3.6.2\n\n- pip:\n    # Required packages for AzureML execution, history, and data preparation.\r\n  - azureml-defaults\n- scikit-learn\n\n",
          "name": "stdout"
        }
      ]
    },
    {
      "metadata": {},
      "cell_type": "markdown",
      "source": "### Describe your target compute\nIn addition to the container, we also need to describe the type of compute we want to allocate for our webservice.  In in this example we are using an [Azure Container Instance](https://azure.microsoft.com/en-us/services/container-instances/) which is a good choice for quick and cost-effective dev/test deployment scenarios.  ACI instances require the number of cores you want to run and memory you need.  Tags and descriptions are available for you to identify the instances in AML when viewing the Compute tab in the AML Portal.\n\nFor production workloads, it is better to use [Azure Kubernentes Service (AKS)](https://azure.microsoft.com/en-us/services/kubernetes-service/) instead. Try [this notebook](11.production-deploy-to-aks.ipynb) to see how that can be done from Azure ML.\n"
    },
    {
      "metadata": {
        "tags": [
          "deploy service",
          "aci"
        ],
        "trusted": true
      },
      "cell_type": "code",
      "source": "from azureml.core.webservice import AciWebservice\n\naciconfig = AciWebservice.deploy_configuration(cpu_cores=1, \n                                               memory_gb=1, \n                                               tags={'sample name': 'AML 101'}, \n                                               description='This is a great example.')",
      "execution_count": 12,
      "outputs": []
    },
    {
      "metadata": {},
      "cell_type": "markdown",
      "source": "### Deploy your webservice\nThe final step to deploying your webservice is to call `WebService.deploy_from_model()`.  This function uses the deployment and image configurations created above to perform the following:\n* Build a docker image\n* Deploy to the docker image to an Azure Container Instance\n* Copy your model files to the Azure Container Instance\n* Call the `init()` function in your scoring file\n* Provide an HTTP endpoint for scoring calls\n\nThe `deploy_from_model` method requires the following parameters\n* `workspace` - the workspace containing the service\n* `name` - a unique named used to identify the service in the workspace\n* `models` - an array of models to be deployed into the container\n* `image_config` - a configuration object describing the image environment\n* `deployment_config` - a configuration object describing the compute type\n \n**Note:** The web service creation can take several minutes.  "
    },
    {
      "metadata": {
        "tags": [
          "deploy service",
          "aci"
        ],
        "trusted": true
      },
      "cell_type": "code",
      "source": "%%time\nfrom azureml.core.webservice import Webservice\n\n# Create the webservice using all of the precreated configurations and our best model\nservice = Webservice.deploy_from_model(name='my-aci-svc',\n                                       deployment_config=aciconfig,\n                                       models=[model],\n                                       image_config=image_config,\n                                       workspace=ws)\n\n# Wait for the service deployment to complete while displaying log output\nservice.wait_for_deployment(show_output=True)",
      "execution_count": 13,
      "outputs": [
        {
          "output_type": "stream",
          "text": "Creating image\nImage creation operation finished for image my-aci-svc:1, operation \"Succeeded\"\nCreating service\nRunning...................\nSucceededACI service creation operation finished, operation \"Succeeded\"\nCPU times: user 4.32 s, sys: 1.65 s, total: 5.98 s\nWall time: 5min 50s\n",
          "name": "stdout"
        }
      ]
    },
    {
      "metadata": {},
      "cell_type": "markdown",
      "source": "\n### Test your webservice"
    },
    {
      "metadata": {},
      "cell_type": "markdown",
      "source": "Now that your web service is runing you can send JSON data directly to the service using the `run` method.  This cell pulls the first test sample from the original dataset into JSON and then sends it to the service."
    },
    {
      "metadata": {
        "tags": [
          "deploy service",
          "aci"
        ],
        "trusted": true
      },
      "cell_type": "code",
      "source": "import json\n# scrape the first row from the test set.\ntest_samples = json.dumps({\"data\": X_test[0:1, :].tolist()})\n\n#score on our service\nservice.run(input_data = test_samples)",
      "execution_count": 14,
      "outputs": [
        {
          "output_type": "execute_result",
          "execution_count": 14,
          "data": {
            "text/plain": "[217.67978776218712]"
          },
          "metadata": {}
        }
      ]
    },
    {
      "metadata": {},
      "cell_type": "markdown",
      "source": "This cell shows how you can send multiple rows to the webservice at once.  It then calculates the residuals - that is, the errors - by subtracting out the actual values from the results.  These residuals are used later to show a plotted result."
    },
    {
      "metadata": {
        "tags": [
          "deploy service",
          "aci"
        ],
        "trusted": true
      },
      "cell_type": "code",
      "source": "# score the entire test set.\ntest_samples = json.dumps({'data': X_test.tolist()})\n\nresult = service.run(input_data = test_samples)\nresidual = result - y_test",
      "execution_count": 15,
      "outputs": []
    },
    {
      "metadata": {},
      "cell_type": "markdown",
      "source": "This cell shows how you can use the `service.scoring_uri` property to access the HTTP endpoint of the service and call it using standard POST operations."
    },
    {
      "metadata": {
        "tags": [
          "deploy service",
          "aci"
        ],
        "trusted": true
      },
      "cell_type": "code",
      "source": "import requests\n\n# use the first row from the test set again\ntest_samples = json.dumps({\"data\": X_test[0:1, :].tolist()})\n\n# create the required header\nheaders = {'Content-Type':'application/json'}\n\n# post the request to the service and display the result\nresp = requests.post(service.scoring_uri, test_samples, headers = headers)\nprint(resp.text)",
      "execution_count": 16,
      "outputs": [
        {
          "output_type": "stream",
          "text": "[217.67978776218712]\n",
          "name": "stdout"
        }
      ]
    },
    {
      "metadata": {},
      "cell_type": "markdown",
      "source": "### Residual graph\nOne way to understand the behavior of your model is to see how the data performs against data with known results.  This cell uses matplotlib to create a histogram of the residual values, or errors, created from scoring the test samples.\n\nA good model should have residual values that cluster around 0 - that is, no error.  Observing the resulting histogram can also show you if the model is skewed in any particular direction."
    },
    {
      "metadata": {
        "trusted": true
      },
      "cell_type": "code",
      "source": "%matplotlib inline\nimport matplotlib.pyplot as plt\n\nf, (a0, a1) = plt.subplots(1, 2, gridspec_kw={'width_ratios':[3, 1], 'wspace':0, 'hspace': 0})\nf.suptitle('Residual Values', fontsize = 18)\n\nf.set_figheight(6)\nf.set_figwidth(14)\n\na0.plot(residual, 'bo', alpha=0.4)\na0.plot([0,90], [0,0], 'r', lw=2)\na0.set_ylabel('residue values', fontsize=14)\na0.set_xlabel('test data set', fontsize=14)\n\na1.hist(residual, orientation='horizontal', color='blue', bins=10, histtype='step')\na1.hist(residual, orientation='horizontal', color='blue', alpha=0.2, bins=10)\na1.set_yticklabels([])\n\nplt.show()",
      "execution_count": 17,
      "outputs": [
        {
          "output_type": "display_data",
          "data": {
            "image/png": "[encoded data removed]",
            "text/plain": "<Figure size 1008x432 with 2 Axes>"
          },
          "metadata": {
            "needs_background": "light"
          }
        }
      ]
    },
    {
      "metadata": {},
      "cell_type": "markdown",
      "source": "### Clean up"
    },
    {
      "metadata": {},
      "cell_type": "markdown",
      "source": "Delete the ACI instance to stop the compute and any associated billing."
    },
    {
      "metadata": {
        "tags": [
          "deploy service",
          "aci"
        ],
        "trusted": false
      },
      "cell_type": "code",
      "source": "%%time\nservice.delete()",
      "execution_count": null,
      "outputs": []
    },
    {
      "metadata": {},
      "cell_type": "markdown",
      "source": "---\n## Next Steps"
    },
    {
      "metadata": {
        "trusted": false
      },
      "cell_type": "code",
      "source": "",
      "execution_count": null,
      "outputs": []
    }
  ],
  "metadata": {
    "authors": [
      {
        "name": "haining"
      }
    ],
    "kernelspec": {
      "name": "python36",
      "display_name": "Python 3.6",
      "language": "python"
    },
    "language_info": {
      "mimetype": "text/x-python",
      "nbconvert_exporter": "python",
      "name": "python",
      "pygments_lexer": "ipython3",
      "version": "3.6.6",
      "file_extension": ".py",
      "codemirror_mode": {
        "version": 3,
        "name": "ipython"
      }
    }
  },
  "nbformat": 4,
  "nbformat_minor": 2
}